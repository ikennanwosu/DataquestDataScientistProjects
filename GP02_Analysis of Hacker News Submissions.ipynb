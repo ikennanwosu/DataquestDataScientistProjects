{
 "cells": [
  {
   "cell_type": "markdown",
   "metadata": {
    "collapsed": true
   },
   "source": [
    "## Analysis of Hacker News Submissions"
   ]
  },
  {
   "cell_type": "markdown",
   "metadata": {},
   "source": [
    "_Hacker News is a site started by the startup incubator Y Combinator, where user-submitted stories (known as \"posts\") are voted and commented upon, similar to reddit. Hacker News is extremely popular in technology and startup circles, and posts that make it to the top of Hacker News' listings can get hundreds of thousands of visitors as a result._"
   ]
  },
  {
   "cell_type": "markdown",
   "metadata": {},
   "source": [
    "_Below are descriptions of the columns of the dataset, collated for submissions that received comments:_\n",
    "\n",
    "- **id**: The unique identifier from Hacker News for the post\n",
    "- **title**: The title of the post\n",
    "- **url**: The URL that the posts links to, if it the post has a URL\n",
    "- **num_points**: The number of points the post acquired, calculated as the total number of upvotes minus the total number of downvotes\n",
    "- **num_comments**: The number of comments that were made on the post\n",
    "- **author**: The username of the person who submitted the post\n",
    "- **created_at**: The date and time at which the post was submitted"
   ]
  },
  {
   "cell_type": "markdown",
   "metadata": {},
   "source": [
    "### Purpose of the analysis"
   ]
  },
  {
   "cell_type": "markdown",
   "metadata": {},
   "source": [
    "_We're specifically interested in posts whose titles begin with either Ask HN or Show HN. Users submit Ask HN posts to ask the Hacker News community a specific question. Likewise, users submit Show HN posts to show the Hacker News community a project, product, or just generally something interesting._\n",
    "\n",
    "_We'll compare these two types of posts to determine the following:_\n",
    "\n",
    "- Do Ask HN or Show HN receive more comments on average?\n",
    "- Do posts created at a certain time receive more comments on average?\n",
    "\n",
    "_Let's start by importing the libraries we need and reading the data set into a list of lists._"
   ]
  },
  {
   "cell_type": "code",
   "execution_count": 2,
   "metadata": {},
   "outputs": [
    {
     "name": "stdout",
     "output_type": "stream",
     "text": [
      "[['id', 'title', 'url', 'num_points', 'num_comments', 'author', 'created_at'], ['12579008', 'You have two days to comment if you want stem cells to be classified as your own', 'http://www.regulations.gov/document?D=FDA-2015-D-3719-0018', '1', '0', 'altstar', '9/26/2016 3:26'], ['12579005', 'SQLAR  the SQLite Archiver', 'https://www.sqlite.org/sqlar/doc/trunk/README.md', '1', '0', 'blacksqr', '9/26/2016 3:24'], ['12578997', 'What if we just printed a flatscreen television on the side of our boxes?', 'https://medium.com/vanmoof/our-secrets-out-f21c1f03fdc8#.ietxmez43', '1', '0', 'pavel_lishin', '9/26/2016 3:19'], ['12578989', 'algorithmic music', 'http://cacm.acm.org/magazines/2011/7/109891-algorithmic-composition/fulltext', '1', '0', 'poindontcare', '9/26/2016 3:16']]\n"
     ]
    }
   ],
   "source": [
    "from csv import reader\n",
    "\n",
    "f = open(\"hacker_news.csv\", 'r', errors='ignore')\n",
    "hn = list(reader(f))\n",
    "print(hn[:5])"
   ]
  },
  {
   "cell_type": "markdown",
   "metadata": {},
   "source": [
    "### Removing Headers from a List of Lists\n",
    "\n",
    "_Notice that the first list in the inner lists contains the column headers, and the lists after contain the data for one row. In order to analyze our data, we need to first remove the row containing the column headers. Let's remove that first row next._"
   ]
  },
  {
   "cell_type": "code",
   "execution_count": 3,
   "metadata": {},
   "outputs": [
    {
     "name": "stdout",
     "output_type": "stream",
     "text": [
      "['id', 'title', 'url', 'num_points', 'num_comments', 'author', 'created_at']\n",
      "\n",
      "[['12579008', 'You have two days to comment if you want stem cells to be classified as your own', 'http://www.regulations.gov/document?D=FDA-2015-D-3719-0018', '1', '0', 'altstar', '9/26/2016 3:26'], ['12579005', 'SQLAR  the SQLite Archiver', 'https://www.sqlite.org/sqlar/doc/trunk/README.md', '1', '0', 'blacksqr', '9/26/2016 3:24'], ['12578997', 'What if we just printed a flatscreen television on the side of our boxes?', 'https://medium.com/vanmoof/our-secrets-out-f21c1f03fdc8#.ietxmez43', '1', '0', 'pavel_lishin', '9/26/2016 3:19'], ['12578989', 'algorithmic music', 'http://cacm.acm.org/magazines/2011/7/109891-algorithmic-composition/fulltext', '1', '0', 'poindontcare', '9/26/2016 3:16'], ['12578979', 'How the Data Vault Enables the Next-Gen Data Warehouse and Data Lake', 'https://www.talend.com/blog/2016/05/12/talend-and-Ã‚Â“the-data-vaultÃ‚Â”', '1', '0', 'markgainor1', '9/26/2016 3:14']]\n"
     ]
    }
   ],
   "source": [
    "headers = hn[0] # assign first row of the data to the variable header\n",
    "hn = hn[1:]      # remove the header by assigning the rest of the data to hn\n",
    "print(headers)\n",
    "print()\n",
    "print(hn[:5])"
   ]
  },
  {
   "cell_type": "markdown",
   "metadata": {},
   "source": [
    "### Extracting Ask HN and Show HN Posts\n",
    "\n",
    "_Now that we've removed the headers from hn, we're ready to filter our data. Since we're only concerned with post titles beginning with Ask HN or Show HN, we'll create new lists of lists containing just the data for those titles._"
   ]
  },
  {
   "cell_type": "code",
   "execution_count": 4,
   "metadata": {},
   "outputs": [
    {
     "name": "stdout",
     "output_type": "stream",
     "text": [
      "length of 'ask_post' is 9139\n",
      "length of 'show_post' is 10158\n",
      "length of 'other_post' is 273822\n"
     ]
    }
   ],
   "source": [
    "ask_posts   = []\n",
    "show_posts  = []\n",
    "other_posts = []\n",
    "\n",
    "for row in hn:\n",
    "    title = row[1]\n",
    "    if title.lower().startswith('ask hn'):\n",
    "        ask_posts.append(row)\n",
    "    elif title.lower().startswith('show hn'):\n",
    "        show_posts.append(row)\n",
    "    else:\n",
    "        other_posts.append(row)\n",
    "        \n",
    "print(\"length of 'ask_post' is {}\".format(len(ask_posts)))\n",
    "print(\"length of 'show_post' is {}\".format(len(show_posts)))\n",
    "print(\"length of 'other_post' is {}\".format(len(other_posts)))"
   ]
  },
  {
   "cell_type": "markdown",
   "metadata": {},
   "source": [
    "### Calculate the average number of comments for the Ask Posts and the Show Posts\n",
    "\n",
    "Let us determine if ask posts or show posts receive more comments on average."
   ]
  },
  {
   "cell_type": "code",
   "execution_count": 5,
   "metadata": {},
   "outputs": [],
   "source": [
    "def avg_comments(posts):\n",
    "    \"\"\"Function takes the list of lists of comments and \n",
    "        returns the average number of comment per category\"\"\"\n",
    "    total_comments = 0\n",
    "\n",
    "    for row in posts:\n",
    "        num_comment = int(row[4])\n",
    "        total_comments += num_comment\n",
    "    \n",
    "    return total_comments/len(posts)"
   ]
  },
  {
   "cell_type": "code",
   "execution_count": 6,
   "metadata": {},
   "outputs": [
    {
     "name": "stdout",
     "output_type": "stream",
     "text": [
      "The average number of ask comments is 10\n",
      "The average number of show comments is 4\n",
      "The average number of other comments is 6\n"
     ]
    }
   ],
   "source": [
    "print(\"The average number of ask comments is {}\".format(int(avg_comments(ask_posts))))\n",
    "print(\"The average number of show comments is {}\".format(int(avg_comments(show_posts))))\n",
    "print(\"The average number of other comments is {}\".format(int(avg_comments(other_posts))))"
   ]
  },
  {
   "cell_type": "markdown",
   "metadata": {},
   "source": [
    "_On the average, the data shows that ask posts receive more comments than show posts. Since ask posts are more likely to receive comments, we'll focus our remaining analysis just on these posts._"
   ]
  },
  {
   "cell_type": "markdown",
   "metadata": {},
   "source": [
    "_Next, we'll determine if ask posts created at a certain time are more likely to attract comments. We'll use the following steps to perform this analysis:_\n",
    "\n",
    " - _Calculate the amount of ask posts created in each hour of the day, along with the number of comments received._\n",
    " - _Calculate the average number of comments ask posts receive by hour created._"
   ]
  },
  {
   "cell_type": "markdown",
   "metadata": {},
   "source": [
    "### Create a list of lists containing the creation time of the comment and the number of comments."
   ]
  },
  {
   "cell_type": "code",
   "execution_count": 7,
   "metadata": {},
   "outputs": [
    {
     "data": {
      "text/plain": [
       "[['9/26/2016 2:53', 7],\n",
       " ['9/26/2016 1:17', 3],\n",
       " ['9/25/2016 22:57', 0],\n",
       " ['9/25/2016 22:48', 3],\n",
       " ['9/25/2016 21:50', 2]]"
      ]
     },
     "execution_count": 7,
     "metadata": {},
     "output_type": "execute_result"
    }
   ],
   "source": [
    "# CREATE A LIST OF LISTS CONTAINING THE TIME THE COMMEMT WAS CREATED AND THE NUMBER OF COMMENTS\n",
    "\n",
    "import datetime as dt\n",
    "\n",
    "result_list = []\n",
    "for row in ask_posts:\n",
    "    date = row[6]\n",
    "    comment = int(row[4])\n",
    "    result_list.append([date, comment])        \n",
    "    \n",
    "result_list[:5]"
   ]
  },
  {
   "cell_type": "code",
   "execution_count": 8,
   "metadata": {},
   "outputs": [],
   "source": [
    "counts_by_hour = {}   # number of ask posts created during each hour of the day.\n",
    "comments_by_hour = {} # corresponding number of comments ask posts created at each hour received.\n",
    "\n",
    "for _list in result_list:\n",
    "    hour = _list[0]\n",
    "    hour = dt.datetime.strptime(hour, \"%m/%d/%Y %H:%M\")\n",
    "    hour_object = hour.strftime(\"%H\")\n",
    "    \n",
    "    if hour_object in counts_by_hour:\n",
    "        counts_by_hour[hour_object] += 1\n",
    "        comments_by_hour[hour_object] += _list[1]\n",
    "    else:\n",
    "        counts_by_hour[hour_object] = 1\n",
    "        comments_by_hour[hour_object] = _list[1]"
   ]
  },
  {
   "cell_type": "code",
   "execution_count": 9,
   "metadata": {},
   "outputs": [
    {
     "name": "stdout",
     "output_type": "stream",
     "text": [
      "Frequency of ask posts per hour:\n"
     ]
    },
    {
     "data": {
      "text/plain": [
       "{'02': 269,\n",
       " '01': 282,\n",
       " '22': 383,\n",
       " '21': 518,\n",
       " '19': 552,\n",
       " '17': 587,\n",
       " '15': 646,\n",
       " '14': 513,\n",
       " '13': 444,\n",
       " '11': 312,\n",
       " '10': 282,\n",
       " '09': 222,\n",
       " '07': 226,\n",
       " '03': 271,\n",
       " '23': 343,\n",
       " '20': 510,\n",
       " '16': 579,\n",
       " '08': 257,\n",
       " '00': 301,\n",
       " '18': 614,\n",
       " '12': 342,\n",
       " '04': 243,\n",
       " '06': 234,\n",
       " '05': 209}"
      ]
     },
     "execution_count": 9,
     "metadata": {},
     "output_type": "execute_result"
    }
   ],
   "source": [
    "print(\"Frequency of ask posts per hour:\")\n",
    "counts_by_hour"
   ]
  },
  {
   "cell_type": "code",
   "execution_count": 10,
   "metadata": {},
   "outputs": [
    {
     "name": "stdout",
     "output_type": "stream",
     "text": [
      "Frequency of comments received per hour:\n"
     ]
    },
    {
     "data": {
      "text/plain": [
       "{'02': 2996,\n",
       " '01': 2089,\n",
       " '22': 3372,\n",
       " '21': 4500,\n",
       " '19': 3954,\n",
       " '17': 5547,\n",
       " '15': 18525,\n",
       " '14': 4972,\n",
       " '13': 7245,\n",
       " '11': 2797,\n",
       " '10': 3013,\n",
       " '09': 1477,\n",
       " '07': 1585,\n",
       " '03': 2154,\n",
       " '23': 2297,\n",
       " '20': 4462,\n",
       " '16': 4466,\n",
       " '08': 2362,\n",
       " '00': 2277,\n",
       " '18': 4877,\n",
       " '12': 4234,\n",
       " '04': 2360,\n",
       " '06': 1587,\n",
       " '05': 1838}"
      ]
     },
     "execution_count": 10,
     "metadata": {},
     "output_type": "execute_result"
    }
   ],
   "source": [
    "print(\"Frequency of comments received per hour:\")\n",
    "comments_by_hour"
   ]
  },
  {
   "cell_type": "markdown",
   "metadata": {},
   "source": [
    "### Calculating the Average Number of Comments for Ask HN Posts by Hour"
   ]
  },
  {
   "cell_type": "code",
   "execution_count": 11,
   "metadata": {},
   "outputs": [],
   "source": [
    "avg_by_hour = []\n",
    "\n",
    "for hr in sorted(comments_by_hour):\n",
    "    avg_by_hour.append([hr, comments_by_hour[hr]/counts_by_hour[hr]])"
   ]
  },
  {
   "cell_type": "code",
   "execution_count": 12,
   "metadata": {},
   "outputs": [
    {
     "data": {
      "text/plain": [
       "[['00', 7.5647840531561465],\n",
       " ['01', 7.407801418439717],\n",
       " ['02', 11.137546468401487],\n",
       " ['03', 7.948339483394834],\n",
       " ['04', 9.7119341563786]]"
      ]
     },
     "execution_count": 12,
     "metadata": {},
     "output_type": "execute_result"
    }
   ],
   "source": [
    "avg_by_hour[:5]"
   ]
  },
  {
   "cell_type": "markdown",
   "metadata": {},
   "source": [
    "### Sorting and Printing Values from a List of Lists"
   ]
  },
  {
   "cell_type": "code",
   "execution_count": 13,
   "metadata": {},
   "outputs": [],
   "source": [
    "def swap_sort_list(avg_hour):\n",
    "    \"\"\"Returns a sorted and swapped list of lists of hours and \n",
    "        count of comments per hour, with the average of the number of\n",
    "        comments in column one\"\"\"\n",
    "    swap_avg_by_hour = []\n",
    "    \n",
    "    for row in avg_hour:                # loop through the list of lists\n",
    "        swap_avg_by_hour.append([row[1], row[0]]) # swap the content of each list\n",
    "\n",
    "    sorted_swap = sorted(swap_avg_by_hour, reverse=True)\n",
    "    return sorted_swap\n",
    "    \n",
    "sorted_swap         = swap_sort_list(avg_by_hour) # instantiate the function\n",
    "sorted_swap_top5    = sorted_swap[:5]             # select the top 5 rows\n",
    "sorted_swap_bottom5 = sorted_swap[-5:]            # select the bottoem 5 rows"
   ]
  },
  {
   "cell_type": "code",
   "execution_count": 14,
   "metadata": {},
   "outputs": [
    {
     "name": "stdout",
     "output_type": "stream",
     "text": [
      "Top 5 comments:\n",
      "15:00: 28.68 average comments per post.\n",
      "13:00: 16.32 average comments per post.\n",
      "12:00: 12.38 average comments per post.\n",
      "02:00: 11.14 average comments per post.\n",
      "10:00: 10.68 average comments per post.\n"
     ]
    }
   ],
   "source": [
    "print(\"Top 5 comments:\")\n",
    "for row in sorted_swap_top5:\n",
    "    hr = dt.datetime.strptime(row[1], \"%H\").strftime(\"%H:%M\")\n",
    "    avg = row[0]\n",
    "    print(\"{}: {:,.2f} average comments per post.\".format(hr, avg))"
   ]
  },
  {
   "cell_type": "code",
   "execution_count": 18,
   "metadata": {},
   "outputs": [
    {
     "name": "stdout",
     "output_type": "stream",
     "text": [
      "Bottom 5 comments\n",
      "07:00: 7.85 average comments per post.\n",
      "03:00: 7.80 average comments per post.\n",
      "04:00: 7.17 average comments per post.\n",
      "22:00: 6.75 average comments per post.\n",
      "09:00: 5.58 average comments per post.\n"
     ]
    }
   ],
   "source": [
    "print(\"Bottom 5 comments\")\n",
    "for row in sorted_swap_bottom5:\n",
    "    hr = dt.datetime.strptime(row[1], \"%H\").strftime(\"%H:%M\")\n",
    "    avg = row[0]\n",
    "    print(\"{}: {:,.2f} average comments per post.\".format(hr, avg))"
   ]
  },
  {
   "cell_type": "markdown",
   "metadata": {},
   "source": [
    "### Determine if show or ask posts receive more points on average"
   ]
  },
  {
   "cell_type": "code",
   "execution_count": 19,
   "metadata": {},
   "outputs": [
    {
     "name": "stdout",
     "output_type": "stream",
     "text": [
      "The average points for the ask posts is 15.06\n",
      "The average points for the show posts is 27.56\n"
     ]
    }
   ],
   "source": [
    "sum_ask_point = 0\n",
    "sum_show_point = 0\n",
    "\n",
    "for row in ask_posts:\n",
    "    sum_ask_point += int(row[3])\n",
    "    \n",
    "for row in show_posts:\n",
    "    sum_show_point += int(row[3])\n",
    "    \n",
    "print(\"The average points for the ask posts is {:,.2f}\".format(sum_ask_point/len(ask_posts)))\n",
    "print(\"The average points for the show posts is {:,.2f}\".format(sum_show_point/len(show_posts)))"
   ]
  },
  {
   "cell_type": "markdown",
   "metadata": {},
   "source": [
    "### Determine if posts created at a certain time are more likely to receive more points.\n",
    "\n",
    "We will create a function to test on for ask posts and show posts."
   ]
  },
  {
   "cell_type": "code",
   "execution_count": 36,
   "metadata": {},
   "outputs": [],
   "source": [
    "def date_points(date_col, point_col, post):\n",
    "    \"\"\"Returns a list of lists containing the dates and the points\"\"\"\n",
    "    date_points = []\n",
    "    for row in post:\n",
    "        date = row[date_col]\n",
    "        points = int(row[point_col])\n",
    "        date_points.append([date, points]) \n",
    "    return date_points"
   ]
  },
  {
   "cell_type": "code",
   "execution_count": 23,
   "metadata": {
    "collapsed": true
   },
   "outputs": [],
   "source": [
    "def post_hour_point(post):\n",
    "    \"\"\"Returns two dictionaries:\n",
    "        counts_by_hour: number of posts created during each hour of the day\n",
    "        points_by_hour: corresponding number of points received\"\"\"\n",
    "    \n",
    "    counts_by_hour = {}   \n",
    "    points_by_hour = {}   \n",
    "\n",
    "    for row in post:\n",
    "        date = row[0]\n",
    "        date = dt.datetime.strptime(date, \"%m/%d/%Y %H:%M\")\n",
    "        hour = date.strftime(\"%H\")\n",
    "    \n",
    "        if hour in counts_by_hour:\n",
    "            counts_by_hour[hour] += 1\n",
    "            points_by_hour[hour] += row[1]\n",
    "        else:\n",
    "            counts_by_hour[hour] = 1\n",
    "            points_by_hour[hour] = row[1]\n",
    "    return [counts_by_hour, points_by_hour]"
   ]
  },
  {
   "cell_type": "markdown",
   "metadata": {},
   "source": [
    "#### For the Ask Posts"
   ]
  },
  {
   "cell_type": "code",
   "execution_count": 42,
   "metadata": {},
   "outputs": [
    {
     "name": "stdout",
     "output_type": "stream",
     "text": [
      "The number of ask posts created per hour:\n"
     ]
    },
    {
     "data": {
      "text/plain": [
       "{'00': 55,\n",
       " '01': 60,\n",
       " '02': 58,\n",
       " '03': 54,\n",
       " '04': 47,\n",
       " '05': 46,\n",
       " '06': 44,\n",
       " '07': 34,\n",
       " '08': 48,\n",
       " '09': 45,\n",
       " '10': 59,\n",
       " '11': 58,\n",
       " '12': 73,\n",
       " '13': 85,\n",
       " '14': 107,\n",
       " '15': 116,\n",
       " '16': 108,\n",
       " '17': 100,\n",
       " '18': 109,\n",
       " '19': 110,\n",
       " '20': 80,\n",
       " '21': 109,\n",
       " '22': 71,\n",
       " '23': 68}"
      ]
     },
     "execution_count": 42,
     "metadata": {},
     "output_type": "execute_result"
    }
   ],
   "source": [
    "ask_post_hp = post_hour_point(ask_post_date_point)\n",
    "ask_post_hp_count = ask_post_hp[0]   # Number of ask posts count per hour\n",
    "ask_post_hp_point = ask_post_hp[1]   # Number of ask posts point per hour\n",
    "\n",
    "print(\"The number of ask posts created per hour:\")\n",
    "ask_post_hp_count"
   ]
  },
  {
   "cell_type": "code",
   "execution_count": 43,
   "metadata": {},
   "outputs": [
    {
     "name": "stdout",
     "output_type": "stream",
     "text": [
      "The points for the ask posts per hour:\n"
     ]
    },
    {
     "data": {
      "text/plain": [
       "{'00': 451,\n",
       " '01': 700,\n",
       " '02': 793,\n",
       " '03': 374,\n",
       " '04': 389,\n",
       " '05': 552,\n",
       " '06': 591,\n",
       " '07': 361,\n",
       " '08': 515,\n",
       " '09': 329,\n",
       " '10': 1102,\n",
       " '11': 825,\n",
       " '12': 782,\n",
       " '13': 2062,\n",
       " '14': 1282,\n",
       " '15': 3479,\n",
       " '16': 2522,\n",
       " '17': 1941,\n",
       " '18': 1741,\n",
       " '19': 1513,\n",
       " '20': 1151,\n",
       " '21': 1721,\n",
       " '22': 511,\n",
       " '23': 581}"
      ]
     },
     "execution_count": 43,
     "metadata": {},
     "output_type": "execute_result"
    }
   ],
   "source": [
    "print(\"The points for the ask posts per hour:\")\n",
    "ask_post_hp_point"
   ]
  },
  {
   "cell_type": "markdown",
   "metadata": {},
   "source": [
    "#### Calculating the Average Number of Points for Ask HN Posts by Hour"
   ]
  },
  {
   "cell_type": "code",
   "execution_count": 49,
   "metadata": {},
   "outputs": [
    {
     "name": "stdout",
     "output_type": "stream",
     "text": [
      "The average ask post points per hour:\n"
     ]
    },
    {
     "data": {
      "text/plain": [
       "[[29.99137931034483, '15'],\n",
       " [24.258823529411764, '13'],\n",
       " [23.35185185185185, '16'],\n",
       " [19.41, '17'],\n",
       " [18.677966101694917, '10']]"
      ]
     },
     "execution_count": 49,
     "metadata": {},
     "output_type": "execute_result"
    }
   ],
   "source": [
    "def avg_count_point_by_hour(count_hr, point_hr):\n",
    "    \"\"\"Calculating the average number of points for each posts by hour\"\"\"\n",
    "    avg_hour = []\n",
    "    for hr in sorted(point_hr):\n",
    "        avg_hour.append([hr, point_hr[hr]/count_hr[hr]])\n",
    "    return avg_hour\n",
    "        \n",
    "avg_count_point_by_hour_ask_post = avg_count_point_by_hour(ask_post_hp_count, ask_post_hp_point)\n",
    "ask_post_swap = swap_sort_list(avg_count_point_by_hour_ask_post)\n",
    "print(\"The average ask post points per hour:\")\n",
    "ask_post_swap[:5]"
   ]
  },
  {
   "cell_type": "markdown",
   "metadata": {
    "collapsed": true
   },
   "source": [
    "_The result shows that ask posts posted between 15:00 and 16:00 are very likely to receive more points than ask posts posted at other times._"
   ]
  },
  {
   "cell_type": "markdown",
   "metadata": {},
   "source": [
    "### For the Show Posts"
   ]
  },
  {
   "cell_type": "code",
   "execution_count": 45,
   "metadata": {},
   "outputs": [
    {
     "name": "stdout",
     "output_type": "stream",
     "text": [
      "The number of show posts created per hour:\n"
     ]
    },
    {
     "data": {
      "text/plain": [
       "{'00': 31,\n",
       " '01': 28,\n",
       " '02': 30,\n",
       " '03': 27,\n",
       " '04': 26,\n",
       " '05': 19,\n",
       " '06': 16,\n",
       " '07': 26,\n",
       " '08': 34,\n",
       " '09': 30,\n",
       " '10': 36,\n",
       " '11': 44,\n",
       " '12': 61,\n",
       " '13': 99,\n",
       " '14': 86,\n",
       " '15': 78,\n",
       " '16': 93,\n",
       " '17': 93,\n",
       " '18': 61,\n",
       " '19': 55,\n",
       " '20': 60,\n",
       " '21': 47,\n",
       " '22': 46,\n",
       " '23': 36}"
      ]
     },
     "execution_count": 45,
     "metadata": {},
     "output_type": "execute_result"
    }
   ],
   "source": [
    "show_post_hp = post_hour_point(show_post_date_point)\n",
    "show_post_hp_count = show_post_hp[0]   # Number of show posts count per hour\n",
    "show_post_hp_point = show_post_hp[1]   # Number of show posts point per hour\n",
    "\n",
    "print(\"The number of show posts created per hour:\")\n",
    "show_post_hp_count"
   ]
  },
  {
   "cell_type": "code",
   "execution_count": 46,
   "metadata": {},
   "outputs": [
    {
     "name": "stdout",
     "output_type": "stream",
     "text": [
      "The points for the show posts per hour:\n"
     ]
    },
    {
     "data": {
      "text/plain": [
       "{'00': 1173,\n",
       " '01': 700,\n",
       " '02': 340,\n",
       " '03': 679,\n",
       " '04': 386,\n",
       " '05': 104,\n",
       " '06': 375,\n",
       " '07': 494,\n",
       " '08': 519,\n",
       " '09': 553,\n",
       " '10': 681,\n",
       " '11': 1480,\n",
       " '12': 2543,\n",
       " '13': 2438,\n",
       " '14': 2187,\n",
       " '15': 2228,\n",
       " '16': 2634,\n",
       " '17': 2521,\n",
       " '18': 2215,\n",
       " '19': 1702,\n",
       " '20': 1819,\n",
       " '21': 866,\n",
       " '22': 1856,\n",
       " '23': 1526}"
      ]
     },
     "execution_count": 46,
     "metadata": {},
     "output_type": "execute_result"
    }
   ],
   "source": [
    "print(\"The points for the show posts per hour:\")\n",
    "show_post_hp_point"
   ]
  },
  {
   "cell_type": "markdown",
   "metadata": {},
   "source": [
    "#### Calculating the Average Number of Points for Show HN Posts by Hour"
   ]
  },
  {
   "cell_type": "code",
   "execution_count": 50,
   "metadata": {},
   "outputs": [
    {
     "name": "stdout",
     "output_type": "stream",
     "text": [
      "The average show post points per hour:\n"
     ]
    },
    {
     "data": {
      "text/plain": [
       "[[42.388888888888886, '23'],\n",
       " [41.68852459016394, '12'],\n",
       " [40.34782608695652, '22'],\n",
       " [37.83870967741935, '00'],\n",
       " [36.31147540983606, '18']]"
      ]
     },
     "execution_count": 50,
     "metadata": {},
     "output_type": "execute_result"
    }
   ],
   "source": [
    "avg_count_point_by_hour_show_post = avg_count_point_by_hour(show_post_hp_count, show_post_hp_point)\n",
    "show_post_swap = swap_sort_list(avg_count_point_by_hour_show_post)\n",
    "print(\"The average show post points per hour:\")\n",
    "show_post_swap[:5]"
   ]
  },
  {
   "cell_type": "markdown",
   "metadata": {},
   "source": [
    "_The result shows that the shows posts posted between 23:00 and 00:00 are very likely to receive more points than show posts posted at other times._"
   ]
  },
  {
   "cell_type": "markdown",
   "metadata": {},
   "source": [
    "### Conclusion\n",
    "\n",
    "_In this project, we analyzed data from the Hacker News site, which comprises of ask posts (questions on specific topics), show posts (posts on projects, products or general fun topics) and other general posts. The objective of the analysis is to determine which posts (ask or show) receive the most comments from the Hacker News community, and at what hour a post is more likely to receive the most comments_.\n",
    "\n",
    "_The result of the analysis shows that on the average, the ask posts receive more comments thats the show posts. This indicates that the Hacker News community is a very likely site to recommend for users requiring answers to certain (possibly technical) questions. The result also shows that the hour that receives the most comments on posts on the average is 15:00, with an average of 38.59 comments per post, while the hour that receives the least comments on posts on the average is 09:00, with an average of 5.58 comments per post._\n",
    "\n",
    "_This implies that for one to stand a chance to receive comments on posts, the recommendation would be to target the time between 15:00. and 16:00._\n",
    "\n",
    "_With respect to the number of points received, the following recommendations is proposed:_\n",
    " - _if interested in getting more points for the ask posts, ask posts should be posted to the Hacker News site between 15:00 to 16:00_\n",
    " - _if interested in getting more points for the show posts, show posts should be posted to the Hacker News site between 23:00 to midnight_"
   ]
  },
  {
   "cell_type": "code",
   "execution_count": 13,
   "metadata": {},
   "outputs": [],
   "source": [
    "a = (5, 6, 7)\n",
    "b = (3, 6, 10)\n",
    "\n",
    "def compareTriplets(a, b):\n",
    "    a_cnt=0\n",
    "    b_cnt=0\n",
    "    for i in range(len(a)):\n",
    "        if a[i] > b[i]:\n",
    "            a_cnt += 1\n",
    "        elif a[i] < b[i]:\n",
    "            b_cnt += 1\n",
    "        else:\n",
    "            pass\n",
    "    return (a_cnt, b_cnt)"
   ]
  },
  {
   "cell_type": "code",
   "execution_count": 12,
   "metadata": {},
   "outputs": [
    {
     "data": {
      "text/plain": [
       "(1, 2)"
      ]
     },
     "execution_count": 12,
     "metadata": {},
     "output_type": "execute_result"
    }
   ],
   "source": [
    "compareTriplets(a, b)"
   ]
  },
  {
   "cell_type": "code",
   "execution_count": null,
   "metadata": {},
   "outputs": [],
   "source": []
  }
 ],
 "metadata": {
  "kernelspec": {
   "display_name": "Python 3",
   "language": "python",
   "name": "python3"
  },
  "language_info": {
   "codemirror_mode": {
    "name": "ipython",
    "version": 3
   },
   "file_extension": ".py",
   "mimetype": "text/x-python",
   "name": "python",
   "nbconvert_exporter": "python",
   "pygments_lexer": "ipython3",
   "version": "3.7.4"
  }
 },
 "nbformat": 4,
 "nbformat_minor": 2
}
